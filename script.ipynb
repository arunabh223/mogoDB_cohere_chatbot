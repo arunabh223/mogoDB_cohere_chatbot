{
 "cells": [
  {
   "cell_type": "code",
   "execution_count": 195,
   "metadata": {},
   "outputs": [],
   "source": [
    "import pandas as pd\n",
    "import os\n",
    "import cohere\n",
    "from datasets import load_dataset\n",
    "from dotenv import load_dotenv"
   ]
  },
  {
   "cell_type": "code",
   "execution_count": 196,
   "metadata": {},
   "outputs": [],
   "source": [
    "# Loading all the environment variables\n",
    "load_dotenv()\n",
    "cohere_api_key = os.getenv(\"COHERE_API_KEY\")\n",
    "hf_token = os.getenv(\"HF_TOKEN\")\n",
    "mongodb_uri = os.getenv(\"MONGO_URI\")"
   ]
  },
  {
   "cell_type": "code",
   "execution_count": 201,
   "metadata": {},
   "outputs": [],
   "source": [
    "co = cohere.Client(api_key=cohere_api_key)"
   ]
  },
  {
   "cell_type": "code",
   "execution_count": 202,
   "metadata": {},
   "outputs": [],
   "source": [
    "dataset = load_dataset(\"MongoDB/fake_tech_companies_market_reports\", split=\"train\", streaming=True)\n",
    "dataset_df = dataset.take(100)"
   ]
  },
  {
   "cell_type": "code",
   "execution_count": 203,
   "metadata": {},
   "outputs": [
    {
     "name": "stdout",
     "output_type": "stream",
     "text": [
      "                                         recent_news  \\\n",
      "0  [{'date': '2024-06-09', 'headline': 'CyberDefe...   \n",
      "1  [{'date': '2024-07-04', 'headline': 'CloudComp...   \n",
      "2  [{'date': '2024-06-27', 'headline': 'VirtualRe...   \n",
      "3  [{'date': '2024-07-06', 'headline': 'BioTech I...   \n",
      "4  [{'date': '2024-06-26', 'headline': 'QuantumCo...   \n",
      "\n",
      "                                             reports                 company  \\\n",
      "0  [{'author': 'Taylor Smith, Technology Sector L...   CyberDefense Dynamics   \n",
      "1  [{'author': 'Casey Jones, Chief Market Strateg...        CloudCompute Pro   \n",
      "2  [{'author': 'Sam Brown, Head of Equity Researc...  VirtualReality Systems   \n",
      "3  [{'author': 'Riley Smith, Senior Tech Analyst'...     BioTech Innovations   \n",
      "4  [{'author': 'Riley Garcia, Senior Tech Analyst...    QuantumComputing Inc   \n",
      "\n",
      "  ticker                                        key_metrics  \\\n",
      "0   CDDY  {'52_week_range': {'high': 387.3, 'low': 41.63...   \n",
      "1   CCPR  {'52_week_range': {'high': 524.23, 'low': 171....   \n",
      "2   VRSY  {'52_week_range': {'high': 530.59, 'low': 56.4...   \n",
      "3   BTCI  {'52_week_range': {'high': 366.55, 'low': 124....   \n",
      "4   QCMP  {'52_week_range': {'high': 231.91, 'low': 159....   \n",
      "\n",
      "                   sector  \n",
      "0  Information Technology  \n",
      "1  Information Technology  \n",
      "2  Information Technology  \n",
      "3  Information Technology  \n",
      "4  Information Technology  \n"
     ]
    }
   ],
   "source": [
    "# Convert the dataset to a pandas dataframe\n",
    "dataset_df = pd.DataFrame(dataset_df)\n",
    "print(dataset_df.head(5))"
   ]
  },
  {
   "cell_type": "code",
   "execution_count": 204,
   "metadata": {},
   "outputs": [
    {
     "data": {
      "text/plain": [
       "Index(['recent_news', 'reports', 'company', 'ticker', 'key_metrics', 'sector'], dtype='object')"
      ]
     },
     "execution_count": 204,
     "metadata": {},
     "output_type": "execute_result"
    }
   ],
   "source": [
    "dataset_df.columns"
   ]
  },
  {
   "cell_type": "code",
   "execution_count": 205,
   "metadata": {},
   "outputs": [
    {
     "data": {
      "text/plain": [
       "[{'author': 'Taylor Smith, Technology Sector Lead',\n",
       "  'content': '**CyberDefense Dynamics (CDDY) - 2023 Market Analysis Report**\\n\\n**Overview:**\\nCyberDefense Dynamics (CDDY) is a leading provider of cybersecurity solutions, offering a range of products and services to protect businesses and government agencies from digital threats. In 2023, CDDY continued to strengthen its market position and delivered solid performance despite a challenging economic environment. This report provides an in-depth analysis of CDDY\\'s performance in 2023, highlighting its key achievements, financial performance, challenges, and future prospects.\\n\\n**Key Highlights:**\\n\\n- **Financial Performance:** CDDY reported strong financial results for 2023. The company\\'s revenue increased by 20% year-over-year, driven by robust demand for its core cybersecurity products and services. Profit margins also improved, with a 5% increase in net income compared to 2022. This growth can be attributed to CDDY\\'s diverse revenue streams, including software sales, subscription services, and consulting engagements.\\n\\n- **Product Innovations:** CDDY continued to innovate its product portfolio, launching several new solutions in 2023. One of the key highlights was the introduction of its AI-powered threat detection platform, which uses machine learning to identify and mitigate potential security risks. Additionally, CDDY enhanced its cloud security offerings, providing improved data protection and compliance capabilities for businesses adopting cloud infrastructure.\\n\\n- **Market Position:** CDDY solidified its position as a leading cybersecurity provider, particularly in the North American market. The company expanded its customer base, securing contracts with several prominent enterprises and government agencies. CDDY\\'s reputation for delivering robust and innovative security solutions has led to increased brand recognition and market share. The company also forged strategic partnerships, leveraging complementary technologies to enhance its product offerings and reach a wider audience.\\n\\n**Challenges:**\\nWhile CDDY had a successful year, it did face certain challenges. The highly competitive nature of the cybersecurity industry meant that CDDY had to continuously innovate and adapt to stay ahead. Additionally, the economic downturn resulted in longer sales cycles as potential customers became more cautious with their IT spending. CDDY also faced talent acquisition and retention challenges, which is a common issue in the rapidly growing cybersecurity sector.\\n\\n**Outlook for 2024:**\\nLooking ahead, CDDY is well-positioned for continued success in 2024. The company plans to build on its existing strengths, including its advanced threat detection capabilities and cloud security offerings. By investing in research and development, CDDY aims to further enhance its product portfolio, particularly in the areas of AI and machine learning. Additionally, CDDY will focus on expanding its global presence, targeting new markets and strengthening its international sales and support capabilities.\\n\\n**Stock Recommendation:**\\nBased on CDDY\\'s strong performance in 2023 and promising outlook, I recommend a \"Buy\" rating for the stock. The company\\'s financial stability, innovative product pipeline, and growing market share position it for further growth. The increasing demand for robust cybersecurity solutions and CDDY\\'s ability to address evolving security threats are also positive factors. With a price target of $120 per share, representing a potential upside of approximately 25% from the current market price, investors can benefit from both capital appreciation and CDDY\\'s commitment to delivering long-term shareholder value.\\n\\n**Conclusion:**\\nIn summary, CyberDefense Dynamics (CDDY) delivered a strong performance in 2023, characterized by financial growth, product innovations, and a solid market position. With a talented team, advanced technology, and a comprehensive understanding of the cybersecurity landscape, CDDY is well-equipped to address the evolving challenges and seize the opportunities that lie ahead in 2024 and beyond.',\n",
       "  'date': '2023-12-09',\n",
       "  'title': 'CyberDefense Dynamics (CDDY) - 2023 Market Analysis',\n",
       "  'year': 2023},\n",
       " {'author': 'Avery Johnson, Senior Tech Analyst',\n",
       "  'content': \"**CyberDefense Dynamics (CDDY) - 2024 Market Analysis Report**\\n\\n**Overview:**\\nCyberDefense Dynamics (CDDY) has had a remarkable year in 2024, solidifying its position as a leading provider of cybersecurity solutions. The company has shown strong financial performance, innovative product developments, and strategic acquisitions, enhancing its market presence and reputation. CDDY's comprehensive suite of cybersecurity offerings has resonated well with businesses of all sizes, positioning it as a trusted partner in an increasingly complex digital landscape. \\n\\n**Financial Performance:**\\n- Revenue Growth: CDDY reported impressive revenue growth for the year, exceeding expectations. The company's top line expanded by 25% year-over-year, driven by strong demand for its core cybersecurity products and services. \\n- Profitability: CDDY's profitability metrics remained healthy, with a slight improvement in gross margins due to economies of scale. Operating income increased by 15%, indicating efficient cost management and strategic investments. \\n- Cash Flow: Strong cash flow from operations continued, enabling CDDY to fund its research and development efforts and make strategic acquisitions. The company also returned value to shareholders through a modest share repurchase program. \\n\\n**Product Innovations & Market Position:**\\n- Innovative Solutions: CDDY introduced several cutting-edge products this year, including an advanced AI-powered threat detection system and a cloud-based security platform for small and medium-sized businesses. These innovations have been well-received by the market, bolstering CDDY's reputation as a technology leader. \\n- Market Share: CDDY has successfully expanded its market share, particularly in the highly competitive North American region. The company's comprehensive product portfolio and strong channel partner relationships have contributed to this growth. CDDY's solutions are now trusted by a diverse range of enterprises, governments, and small businesses alike. \\n- Strategic Acquisitions: CDDY made two strategic acquisitions this year, bolstering its capabilities in cloud security and identity access management. These acquisitions are expected to contribute positively to revenue and provide synergistic opportunities, further enhancing CDDY's market position. \\n\\n**Challenges:**\\n- Competitive Landscape: The cybersecurity market remains highly competitive, with constant innovation and emerging technologies. CDDY faces intense competition from established players and startups, particularly in the rapidly evolving fields of AI-powered security and cloud protection. \\n- Talent Acquisition: As the demand for cybersecurity experts outpaces the supply, CDDY faces challenges in attracting and retaining top talent. The company needs to continue investing in its workforce and offering competitive packages to ensure it has the necessary expertise to drive future growth. \\n- Economic Conditions: A potential economic downturn in 2025 could impact enterprise spending. However, the essential nature of cybersecurity and CDDY's diverse customer base may mitigate some of these risks. \\n\\n**Outlook for 2025 & Stock Recommendation:**\\nFor the next year, CDDY is positioned for continued success. The company's strong product pipeline, expanding market reach, and solid financial foundation provide a positive outlook. Key growth drivers include the increasing sophistication of cyber threats, the growing adoption of cloud-based solutions, and the need for robust data protection regulations. \\n\\nStock Recommendation: **Buy**\\nPrice Target: $120\\n\\nThe stock is currently trading at a reasonable valuation, given its growth prospects and market position. With a forward-looking P/E ratio of around 25, in line with industry peers, there is upside potential as the company continues to execute its strategy. The demand for cybersecurity solutions is expected to remain robust, and CDDY's innovative capabilities position it well to capitalize on this demand.\",\n",
       "  'date': '2024-12-18',\n",
       "  'title': 'CyberDefense Dynamics (CDDY) - 2024 Market Analysis',\n",
       "  'year': 2024}]"
      ]
     },
     "execution_count": 205,
     "metadata": {},
     "output_type": "execute_result"
    }
   ],
   "source": [
    "dataset_df['reports'][0]"
   ]
  },
  {
   "cell_type": "code",
   "execution_count": 206,
   "metadata": {},
   "outputs": [],
   "source": [
    "# Data Preparation\n",
    "def combine_attributes(row):\n",
    "  combined = f\"{row['company']} {row['sector']}\"  \n",
    "  # Add reports information\n",
    "  for report in row['reports']:\n",
    "    combined += f\"{report['year']} {report['title']} {report['author']} {report['content']}\"\n",
    "  # Add recent news information\n",
    "  for news in row['recent_news']:\n",
    "    combined += f\"{news['headline']} {news['summary']}\"\n",
    "  return combined.strip()"
   ]
  },
  {
   "cell_type": "code",
   "execution_count": 207,
   "metadata": {},
   "outputs": [],
   "source": [
    "# Add the new column 'combined_attributes'\n",
    "dataset_df['combined_attributes'] = dataset_df.apply(combine_attributes, axis=1)"
   ]
  },
  {
   "cell_type": "code",
   "execution_count": 208,
   "metadata": {},
   "outputs": [
    {
     "data": {
      "text/html": [
       "<div>\n",
       "<style scoped>\n",
       "    .dataframe tbody tr th:only-of-type {\n",
       "        vertical-align: middle;\n",
       "    }\n",
       "\n",
       "    .dataframe tbody tr th {\n",
       "        vertical-align: top;\n",
       "    }\n",
       "\n",
       "    .dataframe thead th {\n",
       "        text-align: right;\n",
       "    }\n",
       "</style>\n",
       "<table border=\"1\" class=\"dataframe\">\n",
       "  <thead>\n",
       "    <tr style=\"text-align: right;\">\n",
       "      <th></th>\n",
       "      <th>company</th>\n",
       "      <th>ticker</th>\n",
       "      <th>combined_attributes</th>\n",
       "    </tr>\n",
       "  </thead>\n",
       "  <tbody>\n",
       "    <tr>\n",
       "      <th>0</th>\n",
       "      <td>CyberDefense Dynamics</td>\n",
       "      <td>CDDY</td>\n",
       "      <td>CyberDefense Dynamics Information Technology20...</td>\n",
       "    </tr>\n",
       "    <tr>\n",
       "      <th>1</th>\n",
       "      <td>CloudCompute Pro</td>\n",
       "      <td>CCPR</td>\n",
       "      <td>CloudCompute Pro Information Technology2023 Cl...</td>\n",
       "    </tr>\n",
       "    <tr>\n",
       "      <th>2</th>\n",
       "      <td>VirtualReality Systems</td>\n",
       "      <td>VRSY</td>\n",
       "      <td>VirtualReality Systems Information Technology2...</td>\n",
       "    </tr>\n",
       "    <tr>\n",
       "      <th>3</th>\n",
       "      <td>BioTech Innovations</td>\n",
       "      <td>BTCI</td>\n",
       "      <td>BioTech Innovations Information Technology2023...</td>\n",
       "    </tr>\n",
       "    <tr>\n",
       "      <th>4</th>\n",
       "      <td>QuantumComputing Inc</td>\n",
       "      <td>QCMP</td>\n",
       "      <td>QuantumComputing Inc Information Technology202...</td>\n",
       "    </tr>\n",
       "  </tbody>\n",
       "</table>\n",
       "</div>"
      ],
      "text/plain": [
       "                  company ticker  \\\n",
       "0   CyberDefense Dynamics   CDDY   \n",
       "1        CloudCompute Pro   CCPR   \n",
       "2  VirtualReality Systems   VRSY   \n",
       "3     BioTech Innovations   BTCI   \n",
       "4    QuantumComputing Inc   QCMP   \n",
       "\n",
       "                                 combined_attributes  \n",
       "0  CyberDefense Dynamics Information Technology20...  \n",
       "1  CloudCompute Pro Information Technology2023 Cl...  \n",
       "2  VirtualReality Systems Information Technology2...  \n",
       "3  BioTech Innovations Information Technology2023...  \n",
       "4  QuantumComputing Inc Information Technology202...  "
      ]
     },
     "execution_count": 208,
     "metadata": {},
     "output_type": "execute_result"
    }
   ],
   "source": [
    "# Display the first few rows of the updated dataframe\n",
    "dataset_df[['company', 'ticker', 'combined_attributes']].head()"
   ]
  },
  {
   "cell_type": "code",
   "execution_count": 209,
   "metadata": {},
   "outputs": [
    {
     "data": {
      "text/plain": [
       "0     CyberDefense Dynamics Information Technology20...\n",
       "1     CloudCompute Pro Information Technology2023 Cl...\n",
       "2     VirtualReality Systems Information Technology2...\n",
       "3     BioTech Innovations Information Technology2023...\n",
       "4     QuantumComputing Inc Information Technology202...\n",
       "                            ...                        \n",
       "58    CloudCompute Solutions Information Technology2...\n",
       "59    CloudSecurity Pro Information Technology2023 C...\n",
       "60    NanoTech Solutions Information Technology2023 ...\n",
       "61    TechInnovate Information Technology2023 TechIn...\n",
       "62    RoboticsFuture Information Technology2023 Robo...\n",
       "Name: combined_attributes, Length: 63, dtype: object"
      ]
     },
     "execution_count": 209,
     "metadata": {},
     "output_type": "execute_result"
    }
   ],
   "source": [
    "dataset_df['combined_attributes']"
   ]
  },
  {
   "cell_type": "code",
   "execution_count": 210,
   "metadata": {},
   "outputs": [],
   "source": [
    "from tqdm import tqdm"
   ]
  },
  {
   "cell_type": "code",
   "execution_count": 211,
   "metadata": {},
   "outputs": [
    {
     "name": "stderr",
     "output_type": "stream",
     "text": [
      "Generating embeddings: 100%|██████████| 63/63 [00:30<00:00,  2.07it/s]"
     ]
    },
    {
     "name": "stdout",
     "output_type": "stream",
     "text": [
      "We just computed 63 embeddings.\n"
     ]
    },
    {
     "name": "stderr",
     "output_type": "stream",
     "text": [
      "\n"
     ]
    }
   ],
   "source": [
    "def get_embedding(text: str, input_type: str=\"search_document\") -> list[float]:\n",
    "  if not text.strip():\n",
    "    print(\"Attempted to get embedding for empty text.\")\n",
    "    return []\n",
    "\n",
    "  model = \"embed-english-v3.0\"\n",
    "  response = co.embed(\n",
    "    texts=[text],\n",
    "    model=model,\n",
    "    input_type=input_type, # Used for embeddings of search queries run against a vector DB to find relevant documents\n",
    "    embedding_types=['float']\n",
    "  )\n",
    "\n",
    "  return response.embeddings.float[0]\n",
    "\n",
    "# Apply the embedding function with a progress bar\n",
    "tqdm.pandas(desc=\"Generating embeddings\")\n",
    "dataset_df[\"embedding\"] = dataset_df['combined_attributes'].progress_apply(get_embedding)\n",
    "\n",
    "print(f\"We just computed {len(dataset_df['embedding'])} embeddings.\")"
   ]
  },
  {
   "cell_type": "code",
   "execution_count": 212,
   "metadata": {},
   "outputs": [
    {
     "data": {
      "text/html": [
       "<div>\n",
       "<style scoped>\n",
       "    .dataframe tbody tr th:only-of-type {\n",
       "        vertical-align: middle;\n",
       "    }\n",
       "\n",
       "    .dataframe tbody tr th {\n",
       "        vertical-align: top;\n",
       "    }\n",
       "\n",
       "    .dataframe thead th {\n",
       "        text-align: right;\n",
       "    }\n",
       "</style>\n",
       "<table border=\"1\" class=\"dataframe\">\n",
       "  <thead>\n",
       "    <tr style=\"text-align: right;\">\n",
       "      <th></th>\n",
       "      <th>recent_news</th>\n",
       "      <th>reports</th>\n",
       "      <th>company</th>\n",
       "      <th>ticker</th>\n",
       "      <th>key_metrics</th>\n",
       "      <th>sector</th>\n",
       "      <th>combined_attributes</th>\n",
       "      <th>embedding</th>\n",
       "    </tr>\n",
       "  </thead>\n",
       "  <tbody>\n",
       "    <tr>\n",
       "      <th>0</th>\n",
       "      <td>[{'date': '2024-06-09', 'headline': 'CyberDefe...</td>\n",
       "      <td>[{'author': 'Taylor Smith, Technology Sector L...</td>\n",
       "      <td>CyberDefense Dynamics</td>\n",
       "      <td>CDDY</td>\n",
       "      <td>{'52_week_range': {'high': 387.3, 'low': 41.63...</td>\n",
       "      <td>Information Technology</td>\n",
       "      <td>CyberDefense Dynamics Information Technology20...</td>\n",
       "      <td>[0.013557434, -0.033691406, -0.018447876, -0.0...</td>\n",
       "    </tr>\n",
       "    <tr>\n",
       "      <th>1</th>\n",
       "      <td>[{'date': '2024-07-04', 'headline': 'CloudComp...</td>\n",
       "      <td>[{'author': 'Casey Jones, Chief Market Strateg...</td>\n",
       "      <td>CloudCompute Pro</td>\n",
       "      <td>CCPR</td>\n",
       "      <td>{'52_week_range': {'high': 524.23, 'low': 171....</td>\n",
       "      <td>Information Technology</td>\n",
       "      <td>CloudCompute Pro Information Technology2023 Cl...</td>\n",
       "      <td>[-0.057525635, -0.06390381, -0.038269043, -0.0...</td>\n",
       "    </tr>\n",
       "    <tr>\n",
       "      <th>2</th>\n",
       "      <td>[{'date': '2024-06-27', 'headline': 'VirtualRe...</td>\n",
       "      <td>[{'author': 'Sam Brown, Head of Equity Researc...</td>\n",
       "      <td>VirtualReality Systems</td>\n",
       "      <td>VRSY</td>\n",
       "      <td>{'52_week_range': {'high': 530.59, 'low': 56.4...</td>\n",
       "      <td>Information Technology</td>\n",
       "      <td>VirtualReality Systems Information Technology2...</td>\n",
       "      <td>[0.025650024, -0.020706177, -0.016921997, -0.0...</td>\n",
       "    </tr>\n",
       "    <tr>\n",
       "      <th>3</th>\n",
       "      <td>[{'date': '2024-07-06', 'headline': 'BioTech I...</td>\n",
       "      <td>[{'author': 'Riley Smith, Senior Tech Analyst'...</td>\n",
       "      <td>BioTech Innovations</td>\n",
       "      <td>BTCI</td>\n",
       "      <td>{'52_week_range': {'high': 366.55, 'low': 124....</td>\n",
       "      <td>Information Technology</td>\n",
       "      <td>BioTech Innovations Information Technology2023...</td>\n",
       "      <td>[0.0234375, -0.040496826, -0.0044822693, -0.05...</td>\n",
       "    </tr>\n",
       "    <tr>\n",
       "      <th>4</th>\n",
       "      <td>[{'date': '2024-06-26', 'headline': 'QuantumCo...</td>\n",
       "      <td>[{'author': 'Riley Garcia, Senior Tech Analyst...</td>\n",
       "      <td>QuantumComputing Inc</td>\n",
       "      <td>QCMP</td>\n",
       "      <td>{'52_week_range': {'high': 231.91, 'low': 159....</td>\n",
       "      <td>Information Technology</td>\n",
       "      <td>QuantumComputing Inc Information Technology202...</td>\n",
       "      <td>[-0.0069847107, -0.046844482, 0.039398193, 0.0...</td>\n",
       "    </tr>\n",
       "  </tbody>\n",
       "</table>\n",
       "</div>"
      ],
      "text/plain": [
       "                                         recent_news  \\\n",
       "0  [{'date': '2024-06-09', 'headline': 'CyberDefe...   \n",
       "1  [{'date': '2024-07-04', 'headline': 'CloudComp...   \n",
       "2  [{'date': '2024-06-27', 'headline': 'VirtualRe...   \n",
       "3  [{'date': '2024-07-06', 'headline': 'BioTech I...   \n",
       "4  [{'date': '2024-06-26', 'headline': 'QuantumCo...   \n",
       "\n",
       "                                             reports                 company  \\\n",
       "0  [{'author': 'Taylor Smith, Technology Sector L...   CyberDefense Dynamics   \n",
       "1  [{'author': 'Casey Jones, Chief Market Strateg...        CloudCompute Pro   \n",
       "2  [{'author': 'Sam Brown, Head of Equity Researc...  VirtualReality Systems   \n",
       "3  [{'author': 'Riley Smith, Senior Tech Analyst'...     BioTech Innovations   \n",
       "4  [{'author': 'Riley Garcia, Senior Tech Analyst...    QuantumComputing Inc   \n",
       "\n",
       "  ticker                                        key_metrics  \\\n",
       "0   CDDY  {'52_week_range': {'high': 387.3, 'low': 41.63...   \n",
       "1   CCPR  {'52_week_range': {'high': 524.23, 'low': 171....   \n",
       "2   VRSY  {'52_week_range': {'high': 530.59, 'low': 56.4...   \n",
       "3   BTCI  {'52_week_range': {'high': 366.55, 'low': 124....   \n",
       "4   QCMP  {'52_week_range': {'high': 231.91, 'low': 159....   \n",
       "\n",
       "                   sector                                combined_attributes  \\\n",
       "0  Information Technology  CyberDefense Dynamics Information Technology20...   \n",
       "1  Information Technology  CloudCompute Pro Information Technology2023 Cl...   \n",
       "2  Information Technology  VirtualReality Systems Information Technology2...   \n",
       "3  Information Technology  BioTech Innovations Information Technology2023...   \n",
       "4  Information Technology  QuantumComputing Inc Information Technology202...   \n",
       "\n",
       "                                           embedding  \n",
       "0  [0.013557434, -0.033691406, -0.018447876, -0.0...  \n",
       "1  [-0.057525635, -0.06390381, -0.038269043, -0.0...  \n",
       "2  [0.025650024, -0.020706177, -0.016921997, -0.0...  \n",
       "3  [0.0234375, -0.040496826, -0.0044822693, -0.05...  \n",
       "4  [-0.0069847107, -0.046844482, 0.039398193, 0.0...  "
      ]
     },
     "execution_count": 212,
     "metadata": {},
     "output_type": "execute_result"
    }
   ],
   "source": [
    "dataset_df.head()"
   ]
  },
  {
   "cell_type": "code",
   "execution_count": 213,
   "metadata": {},
   "outputs": [
    {
     "name": "stdout",
     "output_type": "stream",
     "text": [
      "Pinged your deployment. You successfully connected to MongoDB!\n"
     ]
    }
   ],
   "source": [
    "from pymongo.mongo_client import MongoClient\n",
    "from pymongo.server_api import ServerApi\n",
    "\n",
    "# Create a new client and connect to the server\n",
    "mongo_client = MongoClient(mongodb_uri, appname=\"rag.cohere_mongodb.python\", server_api=ServerApi('1'))\n",
    "\n",
    "# Send a ping to confirm a successful connection\n",
    "try:\n",
    "    mongo_client.admin.command('ping')\n",
    "    print(\"Pinged your deployment. You successfully connected to MongoDB!\")\n",
    "except Exception as e:\n",
    "    print(e)"
   ]
  },
  {
   "cell_type": "code",
   "execution_count": 214,
   "metadata": {},
   "outputs": [],
   "source": [
    "#mongo_client = MongoClient(mongodb_uri, appname=\"rag.cohere_mongodb.python\")\n",
    "\n",
    "DB_NAME = \"asset_management_use_case\"\n",
    "COLLECTION_NAME = \"market_reports\"\n",
    "\n",
    "db = mongo_client.get_database(DB_NAME)\n",
    "collection = db.get_collection(COLLECTION_NAME)"
   ]
  },
  {
   "cell_type": "code",
   "execution_count": 215,
   "metadata": {},
   "outputs": [
    {
     "data": {
      "text/plain": [
       "DeleteResult({'n': 0, 'electionId': ObjectId('7fffffff000000000000002a'), 'opTime': {'ts': Timestamp(1729009489, 10), 't': 42}, 'ok': 1.0, '$clusterTime': {'clusterTime': Timestamp(1729009489, 10), 'signature': {'hash': b'\\xb5\\xf7a\\xdc\\x1fc\\x08\\xd8\\xcf\\x9d3\\x08#%3\\xb2&?\\xb0\\x14', 'keyId': 7364016862612422665}}, 'operationTime': Timestamp(1729009489, 10)}, acknowledged=True)"
      ]
     },
     "execution_count": 215,
     "metadata": {},
     "output_type": "execute_result"
    }
   ],
   "source": [
    "# Delete any existing records in the collection\n",
    "collection.delete_many({})"
   ]
  },
  {
   "cell_type": "code",
   "execution_count": 216,
   "metadata": {},
   "outputs": [
    {
     "name": "stdout",
     "output_type": "stream",
     "text": [
      "Data ingestion into MongoDB completed\n"
     ]
    }
   ],
   "source": [
    "documents = dataset_df.to_dict('records')\n",
    "collection.insert_many(documents)\n",
    "\n",
    "print(\"Data ingestion into MongoDB completed\")"
   ]
  },
  {
   "cell_type": "code",
   "execution_count": 217,
   "metadata": {},
   "outputs": [],
   "source": [
    "def vector_search(user_query, collection):\n",
    "\n",
    "  # Generate embedding for the user query\n",
    "  query_embedding = get_embedding(user_query, input_type=\"search_query\")\n",
    "\n",
    "  if query_embedding is None:\n",
    "    return \"Invalid query or embedding generation failed.\"\n",
    "\n",
    "  # Define the vector search pipeline\n",
    "  vector_search_stage = {\n",
    "    \"$vectorSearch\": {\n",
    "      \"index\": \"vector_index\",\n",
    "      \"queryVector\": query_embedding,\n",
    "      \"path\": \"embedding\",\n",
    "      \"numCandidates\": 150,  # Number of candidate matches to consider\n",
    "      \"limit\": 5  # Return top 4 matches\n",
    "    }\n",
    "  }\n",
    "\n",
    "  unset_stage = {\n",
    "    \"$unset\": \"embedding\"  # Exclude the 'embedding' field from the results\n",
    "  }\n",
    "\n",
    "  project_stage = {\n",
    "    \"$project\": {\n",
    "      \"_id\": 0,  # Exclude the _id field\n",
    "      \"company\": 1,  # Include the plot field\n",
    "      \"reports\": 1,  # Include the title field\n",
    "      \"combined_attributes\": 1, # Include the genres field\n",
    "      \"score\": {\n",
    "        \"$meta\": \"vectorSearchScore\"  # Include the search score\n",
    "      }\n",
    "    }\n",
    "  }\n",
    "\n",
    "  pipeline = [vector_search_stage, unset_stage, project_stage]\n",
    "\n",
    "  # Execute the search\n",
    "  results = collection.aggregate(pipeline)\n",
    "  return list(results)"
   ]
  },
  {
   "cell_type": "code",
   "execution_count": 218,
   "metadata": {},
   "outputs": [],
   "source": [
    "\n",
    "def rerank_documents(query: str, documents, top_n: int = 3):\n",
    "    # Perform reranking with Cohere ReRank Model\n",
    "    try:\n",
    "        response = co.rerank(\n",
    "            model=\"rerank-english-v3.0\",\n",
    "            query=query,\n",
    "            documents=documents,\n",
    "            top_n=top_n,\n",
    "            rank_fields=[\"company\", \"reports\", \"combined_attributes\"]\n",
    "        )\n",
    "\n",
    "        # Extract the top reranked documents\n",
    "        top_documents_after_rerank = []\n",
    "        for result in response.results:\n",
    "            original_doc = documents[result.index]\n",
    "            top_documents_after_rerank.append({\n",
    "                'company': original_doc['company'],\n",
    "                'combined_attributes': original_doc['combined_attributes'],\n",
    "                'reports': original_doc['reports'],\n",
    "                'vector_search_score': original_doc['score'],\n",
    "                'relevance_score': result.relevance_score\n",
    "            })\n",
    "\n",
    "        return top_documents_after_rerank\n",
    "\n",
    "    except Exception as e:\n",
    "        print(f\"An error occurred during reranking: {e}\")\n",
    "        return documents[:top_n]  # Return top N documents without reranking"
   ]
  },
  {
   "cell_type": "code",
   "execution_count": 219,
   "metadata": {},
   "outputs": [
    {
     "data": {
      "text/html": [
       "<div>\n",
       "<style scoped>\n",
       "    .dataframe tbody tr th:only-of-type {\n",
       "        vertical-align: middle;\n",
       "    }\n",
       "\n",
       "    .dataframe tbody tr th {\n",
       "        vertical-align: top;\n",
       "    }\n",
       "\n",
       "    .dataframe thead th {\n",
       "        text-align: right;\n",
       "    }\n",
       "</style>\n",
       "<table border=\"1\" class=\"dataframe\">\n",
       "  <thead>\n",
       "    <tr style=\"text-align: right;\">\n",
       "      <th></th>\n",
       "      <th>reports</th>\n",
       "      <th>company</th>\n",
       "      <th>combined_attributes</th>\n",
       "      <th>score</th>\n",
       "    </tr>\n",
       "  </thead>\n",
       "  <tbody>\n",
       "    <tr>\n",
       "      <th>0</th>\n",
       "      <td>[{'author': 'Jordan Garcia, Senior Tech Analys...</td>\n",
       "      <td>GreenEnergy Corp</td>\n",
       "      <td>GreenEnergy Corp Information Technology2023 Gr...</td>\n",
       "      <td>0.660881</td>\n",
       "    </tr>\n",
       "    <tr>\n",
       "      <th>1</th>\n",
       "      <td>[{'author': 'Morgan Smith, Technology Sector L...</td>\n",
       "      <td>BioTech Therapeutics</td>\n",
       "      <td>BioTech Therapeutics Information Technology202...</td>\n",
       "      <td>0.649082</td>\n",
       "    </tr>\n",
       "    <tr>\n",
       "      <th>2</th>\n",
       "      <td>[{'author': 'Casey Davis, Technology Sector Le...</td>\n",
       "      <td>RenewableEnergy Innovations</td>\n",
       "      <td>RenewableEnergy Innovations Information Techno...</td>\n",
       "      <td>0.648021</td>\n",
       "    </tr>\n",
       "    <tr>\n",
       "      <th>3</th>\n",
       "      <td>[{'author': 'Casey Davis, Head of Equity Resea...</td>\n",
       "      <td>BioTech Engineering</td>\n",
       "      <td>BioTech Engineering Information Technology2023...</td>\n",
       "      <td>0.646297</td>\n",
       "    </tr>\n",
       "    <tr>\n",
       "      <th>4</th>\n",
       "      <td>[{'author': 'Morgan Williams, Senior Tech Anal...</td>\n",
       "      <td>BioEngineering Corp</td>\n",
       "      <td>BioEngineering Corp Information Technology2023...</td>\n",
       "      <td>0.645909</td>\n",
       "    </tr>\n",
       "  </tbody>\n",
       "</table>\n",
       "</div>"
      ],
      "text/plain": [
       "                                             reports  \\\n",
       "0  [{'author': 'Jordan Garcia, Senior Tech Analys...   \n",
       "1  [{'author': 'Morgan Smith, Technology Sector L...   \n",
       "2  [{'author': 'Casey Davis, Technology Sector Le...   \n",
       "3  [{'author': 'Casey Davis, Head of Equity Resea...   \n",
       "4  [{'author': 'Morgan Williams, Senior Tech Anal...   \n",
       "\n",
       "                       company  \\\n",
       "0             GreenEnergy Corp   \n",
       "1         BioTech Therapeutics   \n",
       "2  RenewableEnergy Innovations   \n",
       "3          BioTech Engineering   \n",
       "4          BioEngineering Corp   \n",
       "\n",
       "                                 combined_attributes     score  \n",
       "0  GreenEnergy Corp Information Technology2023 Gr...  0.660881  \n",
       "1  BioTech Therapeutics Information Technology202...  0.649082  \n",
       "2  RenewableEnergy Innovations Information Techno...  0.648021  \n",
       "3  BioTech Engineering Information Technology2023...  0.646297  \n",
       "4  BioEngineering Corp Information Technology2023...  0.645909  "
      ]
     },
     "execution_count": 219,
     "metadata": {},
     "output_type": "execute_result"
    }
   ],
   "source": [
    "import pprint\n",
    "\n",
    "query = \"What companies have negative market reports or negative sentiment that might deter from investment in the long term\"\n",
    "\n",
    "get_knowledge = vector_search(query, collection)\n",
    "pd.DataFrame(get_knowledge).head()"
   ]
  },
  {
   "cell_type": "code",
   "execution_count": 220,
   "metadata": {},
   "outputs": [
    {
     "data": {
      "text/html": [
       "<div>\n",
       "<style scoped>\n",
       "    .dataframe tbody tr th:only-of-type {\n",
       "        vertical-align: middle;\n",
       "    }\n",
       "\n",
       "    .dataframe tbody tr th {\n",
       "        vertical-align: top;\n",
       "    }\n",
       "\n",
       "    .dataframe thead th {\n",
       "        text-align: right;\n",
       "    }\n",
       "</style>\n",
       "<table border=\"1\" class=\"dataframe\">\n",
       "  <thead>\n",
       "    <tr style=\"text-align: right;\">\n",
       "      <th></th>\n",
       "      <th>company</th>\n",
       "      <th>combined_attributes</th>\n",
       "      <th>reports</th>\n",
       "      <th>vector_search_score</th>\n",
       "      <th>relevance_score</th>\n",
       "    </tr>\n",
       "  </thead>\n",
       "  <tbody>\n",
       "    <tr>\n",
       "      <th>0</th>\n",
       "      <td>GreenEnergy Corp</td>\n",
       "      <td>GreenEnergy Corp Information Technology2023 Gr...</td>\n",
       "      <td>[{'author': 'Jordan Garcia, Senior Tech Analys...</td>\n",
       "      <td>0.660881</td>\n",
       "      <td>0.000147</td>\n",
       "    </tr>\n",
       "    <tr>\n",
       "      <th>1</th>\n",
       "      <td>BioEngineering Corp</td>\n",
       "      <td>BioEngineering Corp Information Technology2023...</td>\n",
       "      <td>[{'author': 'Morgan Williams, Senior Tech Anal...</td>\n",
       "      <td>0.645909</td>\n",
       "      <td>0.000064</td>\n",
       "    </tr>\n",
       "    <tr>\n",
       "      <th>2</th>\n",
       "      <td>BioTech Engineering</td>\n",
       "      <td>BioTech Engineering Information Technology2023...</td>\n",
       "      <td>[{'author': 'Casey Davis, Head of Equity Resea...</td>\n",
       "      <td>0.646297</td>\n",
       "      <td>0.000054</td>\n",
       "    </tr>\n",
       "  </tbody>\n",
       "</table>\n",
       "</div>"
      ],
      "text/plain": [
       "               company                                combined_attributes  \\\n",
       "0     GreenEnergy Corp  GreenEnergy Corp Information Technology2023 Gr...   \n",
       "1  BioEngineering Corp  BioEngineering Corp Information Technology2023...   \n",
       "2  BioTech Engineering  BioTech Engineering Information Technology2023...   \n",
       "\n",
       "                                             reports  vector_search_score  \\\n",
       "0  [{'author': 'Jordan Garcia, Senior Tech Analys...             0.660881   \n",
       "1  [{'author': 'Morgan Williams, Senior Tech Anal...             0.645909   \n",
       "2  [{'author': 'Casey Davis, Head of Equity Resea...             0.646297   \n",
       "\n",
       "   relevance_score  \n",
       "0         0.000147  \n",
       "1         0.000064  \n",
       "2         0.000054  "
      ]
     },
     "execution_count": 220,
     "metadata": {},
     "output_type": "execute_result"
    }
   ],
   "source": [
    "reranked_documents = rerank_documents(query, get_knowledge)\n",
    "pd.DataFrame(reranked_documents).head()"
   ]
  },
  {
   "cell_type": "code",
   "execution_count": 221,
   "metadata": {},
   "outputs": [
    {
     "name": "stdout",
     "output_type": "stream",
     "text": [
      "Final answer:\n",
      "Here is an overview of the companies with negative market reports or sentiment that might deter long-term investment:\n",
      "\n",
      "## GreenEnergy Corp (GRNE):\n",
      "- **Challenges**: Despite impressive performance, GRNE faces challenges due to a volatile political environment and rising trade tensions, resulting in increased tariffs and supply chain hurdles.\n",
      "- **Competitive Market**: The company operates in a highly competitive renewable energy sector, requiring constant innovation to adapt to evolving technologies and consumer preferences.\n",
      "\n",
      "## BioEngineering Corp (BENC):\n",
      "- **Regulatory Hurdles**: BENC faces delays in obtaining approvals for certain products due to stringent healthcare regulations, impacting their time-to-market.\n",
      "- **Reimbursement and Pricing Pressures**: Rising healthcare costs and pressure from payers and governments for lower prices present challenges for BENC's pricing strategies and profitability.\n",
      "- **Research and Development Expenses**: In 2025, BENC faced significant increases in R&D expenses, requiring careful management to maintain a competitive pricing strategy.\n",
      "\n",
      "## BioTech Engineering (BTEN):\n",
      "- **Supply Chain Disruptions**: BTEN experienced supply chain issues in 2023 and 2024, impacting the timely delivery of equipment and raw materials, causing minor delays in product deliveries.\n",
      "- **Increased Competition**: The emergence of new market entrants and increased competition in the biotech engineering space could potentially erode BTEN's market share.\n"
     ]
    }
   ],
   "source": [
    "def format_documents_for_chat(documents):\n",
    "  return [\n",
    "    {\n",
    "        \"company\": doc['company'],\n",
    "        # \"reports\": doc['reports'],\n",
    "        \"combined_attributes\": doc['combined_attributes']\n",
    "    }\n",
    "    for doc in documents\n",
    "  ]\n",
    "\n",
    "# Generating response with Cohere Command R\n",
    "response = co.chat(\n",
    "  message=query,\n",
    "  documents=format_documents_for_chat(reranked_documents),\n",
    "  model=\"command-r-plus\",\n",
    "  temperature=0.3\n",
    ")\n",
    "\n",
    "print(\"Final answer:\")\n",
    "print(response.text)\n"
   ]
  },
  {
   "cell_type": "code",
   "execution_count": 222,
   "metadata": {},
   "outputs": [
    {
     "name": "stdout",
     "output_type": "stream",
     "text": [
      "start=122 end=145 text='GreenEnergy Corp (GRNE)' document_ids=['doc_0']\n",
      "start=151 end=161 text='Challenges' document_ids=['doc_0']\n",
      "start=228 end=284 text='volatile political environment and rising trade tensions' document_ids=['doc_0']\n",
      "start=299 end=342 text='increased tariffs and supply chain hurdles.' document_ids=['doc_0']\n",
      "start=347 end=365 text='Competitive Market' document_ids=['doc_0']\n",
      "start=395 end=437 text='highly competitive renewable energy sector' document_ids=['doc_0']\n",
      "start=449 end=528 text='constant innovation to adapt to evolving technologies and consumer preferences.' document_ids=['doc_0']\n",
      "start=533 end=559 text='BioEngineering Corp (BENC)' document_ids=['doc_1']\n",
      "start=565 end=583 text='Regulatory Hurdles' document_ids=['doc_1']\n",
      "start=598 end=648 text='delays in obtaining approvals for certain products' document_ids=['doc_1']\n",
      "start=656 end=688 text='stringent healthcare regulations' document_ids=['doc_1']\n",
      "start=706 end=721 text='time-to-market.' document_ids=['doc_1']\n",
      "start=726 end=761 text='Reimbursement and Pricing Pressures' document_ids=['doc_1']\n",
      "start=765 end=846 text='Rising healthcare costs and pressure from payers and governments for lower prices' document_ids=['doc_1']\n",
      "start=877 end=914 text='pricing strategies and profitability.' document_ids=['doc_1']\n",
      "start=919 end=952 text='Research and Development Expenses' document_ids=['doc_1']\n",
      "start=959 end=963 text='2025' document_ids=['doc_1']\n",
      "start=976 end=1013 text='significant increases in R&D expenses' document_ids=['doc_1']\n",
      "start=1025 end=1087 text='careful management to maintain a competitive pricing strategy.' document_ids=['doc_1']\n",
      "start=1092 end=1118 text='BioTech Engineering (BTEN)' document_ids=['doc_2']\n",
      "start=1124 end=1148 text='Supply Chain Disruptions' document_ids=['doc_2']\n",
      "start=1169 end=1205 text='supply chain issues in 2023 and 2024' document_ids=['doc_2']\n",
      "start=1221 end=1267 text='timely delivery of equipment and raw materials' document_ids=['doc_2']\n",
      "start=1277 end=1312 text='minor delays in product deliveries.' document_ids=['doc_2']\n",
      "start=1317 end=1338 text='Increased Competition' document_ids=['doc_2']\n",
      "start=1346 end=1437 text='emergence of new market entrants and increased competition in the biotech engineering space' document_ids=['doc_2']\n",
      "start=1456 end=1482 text=\"erode BTEN's market share.\" document_ids=['doc_2']\n"
     ]
    }
   ],
   "source": [
    "for cite in response.citations:\n",
    "  print(cite)"
   ]
  },
  {
   "cell_type": "code",
   "execution_count": 229,
   "metadata": {},
   "outputs": [],
   "source": [
    "from typing import Dict, Optional, List\n",
    "\n",
    "class CohereChat:\n",
    "\n",
    "    def __init__(self, cohere_client, system: str = \"\", database: str = \"cohere_chat\",\n",
    "                 main_collection: str = \"main_collection\", history_params: Optional[Dict[str, str]] = None):\n",
    "      self.co = cohere_client\n",
    "      self.system = system\n",
    "      self.history_params = history_params or {}\n",
    "\n",
    "      # Use the connection string from history_params\n",
    "      #self.client = MongoClient(self.history_params.get('mongodb_uri', 'mongodb://localhost:27017/'))\n",
    "      self.client = MongoClient(self.history_params.get('connection_string', 'mongodb://localhost:27017/'))\n",
    "\n",
    "      # Use the database parameter\n",
    "      self.db = self.client[database]\n",
    "\n",
    "      # Use the main_collection parameter\n",
    "      self.main_collection = self.db[main_collection]\n",
    "\n",
    "      # Use the history_collection from history_params, or default to \"chat_history\"\n",
    "      self.history_collection = self.db[self.history_params.get('history_collection', 'chat_history')]\n",
    "\n",
    "      # Use the session_id from history_params, or default to \"default_session\"\n",
    "      self.session_id = self.history_params.get('session_id', 'default_session')\n",
    "\n",
    "    def add_to_history(self, message: str, prefix: str = \"\"):\n",
    "      self.history_collection.insert_one({\n",
    "        'session_id': self.session_id,\n",
    "        'message': message,\n",
    "        'prefix': prefix\n",
    "      })\n",
    "\n",
    "    def get_chat_history(self) -> List[Dict[str, str]]:\n",
    "      history = self.history_collection.find({'session_id': self.session_id}).sort('_id', 1)\n",
    "      return [{\"role\": \"user\" if item['prefix'] == \"USER\" else \"chatbot\", \"message\": item['message']} for item in history]\n",
    "\n",
    "    def rerank_documents(self, query: str, documents: List[Dict], top_n: int = 3) -> List[Dict]:\n",
    "      rerank_docs = [  # creating a new list of docs keeping only 'company' and 'combined attributes' field\n",
    "          {\n",
    "            'company': doc['company'],\n",
    "            'combined_attributes': doc['combined_attributes']\n",
    "          }\n",
    "          for doc in documents\n",
    "          if doc['combined_attributes'].strip() # filters out documents with empty 'combined_attributes'.\n",
    "      ]\n",
    "\n",
    "      if not rerank_docs: # Returns an empty list if there are no valid documents to rerank.\n",
    "          print(\"No valid documents to rerank.\")\n",
    "          return []\n",
    "\n",
    "      try:\n",
    "          response = self.co.rerank(        # calling the rerank function again\n",
    "              query=query,\n",
    "              documents=rerank_docs,\n",
    "              top_n=top_n,\n",
    "              model=\"rerank-english-v3.0\",\n",
    "              rank_fields=[\"company\", \"combined_attributes\"]\n",
    "          )\n",
    "\n",
    "          top_documents_after_rerank = [   # creating a new list of the top reranked documents\n",
    "              {\n",
    "                  'company': rerank_docs[result.index]['company'],\n",
    "                  'combined_attributes': rerank_docs[result.index]['combined_attributes'],\n",
    "                  'relevance_score': result.relevance_score\n",
    "              }\n",
    "              for result in response.results\n",
    "          ]\n",
    "\n",
    "          print(f\"\\nHere are the top {top_n} documents after rerank:\")\n",
    "          for doc in top_documents_after_rerank:\n",
    "              print(f\"== {doc['company']} (Relevance: {doc['relevance_score']:.4f})\")\n",
    "\n",
    "          return top_documents_after_rerank\n",
    "\n",
    "      except Exception as e:\n",
    "          print(f\"An error occurred during reranking: {e}\")\n",
    "          return documents[:top_n]\n",
    "\n",
    "    def format_documents_for_chat(self, documents: List[Dict]) -> List[Dict]: # pre-processing step\n",
    "      return [\n",
    "        {\n",
    "          \"company\": doc['company'],\n",
    "          \"combined_attributes\": doc['combined_attributes']\n",
    "        }\n",
    "        for doc in documents\n",
    "      ]\n",
    "\n",
    "    def send_message(self, message: str, vector_search_func) -> str:\n",
    "      self.add_to_history(message, \"USER\") # Stores the user's message in the chat history.\n",
    "\n",
    "      # Perform vector search\n",
    "      search_results = vector_search_func(message, self.main_collection)\n",
    "\n",
    "      # Rerank the search results\n",
    "      reranked_documents = self.rerank_documents(message, search_results)\n",
    "\n",
    "      # Format documents for chat\n",
    "      formatted_documents = self.format_documents_for_chat(reranked_documents)\n",
    "\n",
    "      # Generate response using Cohere chat\n",
    "      response = self.co.chat(\n",
    "        chat_history=self.get_chat_history(),\n",
    "        message=message,\n",
    "        documents=formatted_documents,\n",
    "        model=\"command-r-plus\",\n",
    "        temperature=0.3\n",
    "      )\n",
    "\n",
    "      result = response.text # extracts the text from the response\n",
    "      self.add_to_history(result, \"CHATBOT\") # adds the chatbot's response to the chat history\n",
    "\n",
    "      print(\"Final answer:\")\n",
    "      print(result)\n",
    "\n",
    "      print(\"\\nCitations:\")\n",
    "      for cite in response.citations:\n",
    "        print(cite)\n",
    "\n",
    "      return result\n",
    "\n",
    "    def show_history(self):\n",
    "      history = self.history_collection.find({'session_id': self.session_id}).sort('_id', 1)\n",
    "      for item in history:\n",
    "        print(f\"{item['prefix']}: {item['message']}\")\n",
    "        print(\"-------------------------\")\n"
   ]
  },
  {
   "cell_type": "code",
   "execution_count": 230,
   "metadata": {},
   "outputs": [
    {
     "name": "stdout",
     "output_type": "stream",
     "text": [
      "\n",
      "Here are the top 3 documents after rerank:\n",
      "== EcoTech Innovations (Relevance: 0.0001)\n",
      "== SmartRetail Tech (Relevance: 0.0001)\n",
      "== GreenEnergy Systems (Relevance: 0.0001)\n",
      "Final answer:\n",
      "I am an AI assistant and cannot give financial advice. However, I can tell you about some companies that have been recommended as 'buy' investments.\n",
      "\n",
      "## EcoTech Innovations (ETIN)\n",
      "EcoTech Innovations is a leading provider of sustainable technology solutions, specialising in renewable energy and environmentally friendly products. In 2023, the company demonstrated resilience and adaptability, achieving solid results despite challenging market conditions. ETIN's diverse product portfolio, innovative capabilities, and the growing demand for sustainable solutions have contributed to its success. The company's financial performance has been impressive, with a 15% revenue growth year-over-year in 2023. \n",
      "\n",
      "## SmartRetail Tech (SRTY)\n",
      "SmartRetail Tech is a leading provider of innovative retail technology solutions, empowering retailers with advanced tools to enhance their operations and customer experience. SRTY has consistently delivered strong financial performance and exceeded expectations. In 2024, the company reported a 25% year-over-year revenue increase, with improved profit margins. \n",
      "\n",
      "## GreenEnergy Systems (GESY)\n",
      "GreenEnergy Systems is a leading provider of renewable energy solutions, specialising in solar and wind power technologies. The company demonstrated solid performance and financial improvements in 2023, building on its strong foundation in the renewable energy sector. GESY reported a 20% revenue growth year-over-year, with improved gross margins and a 25% increase in net income. \n",
      "\n",
      "Please note that these are fictional companies and this information should not be considered as investment advice.\n",
      "\n",
      "Citations:\n",
      "start=130 end=135 text=\"'buy'\" document_ids=['doc_0', 'doc_1', 'doc_2']\n",
      "start=153 end=179 text='EcoTech Innovations (ETIN)' document_ids=['doc_0', 'doc_2']\n",
      "start=205 end=257 text='leading provider of sustainable technology solutions' document_ids=['doc_0', 'doc_2']\n",
      "start=259 end=330 text='specialising in renewable energy and environmentally friendly products.' document_ids=['doc_0', 'doc_2']\n",
      "start=334 end=338 text='2023' document_ids=['doc_0']\n",
      "start=352 end=392 text='demonstrated resilience and adaptability' document_ids=['doc_0']\n",
      "start=404 end=456 text='solid results despite challenging market conditions.' document_ids=['doc_0']\n",
      "start=464 end=564 text='diverse product portfolio, innovative capabilities, and the growing demand for sustainable solutions' document_ids=['doc_0']\n",
      "start=612 end=653 text='financial performance has been impressive' document_ids=['doc_0']\n",
      "start=662 end=704 text='15% revenue growth year-over-year in 2023.' document_ids=['doc_0']\n",
      "start=710 end=733 text='SmartRetail Tech (SRTY)' document_ids=['doc_1']\n",
      "start=756 end=814 text='leading provider of innovative retail technology solutions' document_ids=['doc_1']\n",
      "start=816 end=909 text='empowering retailers with advanced tools to enhance their operations and customer experience.' document_ids=['doc_1']\n",
      "start=919 end=997 text='consistently delivered strong financial performance and exceeded expectations.' document_ids=['doc_1']\n",
      "start=1001 end=1005 text='2024' document_ids=['doc_1']\n",
      "start=1030 end=1096 text='25% year-over-year revenue increase, with improved profit margins.' document_ids=['doc_1']\n",
      "start=1102 end=1128 text='GreenEnergy Systems (GESY)' document_ids=['doc_2']\n",
      "start=1154 end=1200 text='leading provider of renewable energy solutions' document_ids=['doc_2']\n",
      "start=1202 end=1252 text='specialising in solar and wind power technologies.' document_ids=['doc_2']\n",
      "start=1265 end=1330 text='demonstrated solid performance and financial improvements in 2023' document_ids=['doc_2']\n",
      "start=1348 end=1397 text='strong foundation in the renewable energy sector.' document_ids=['doc_2']\n",
      "start=1414 end=1447 text='20% revenue growth year-over-year' document_ids=['doc_2']\n",
      "start=1454 end=1510 text='improved gross margins and a 25% increase in net income.' document_ids=['doc_2']\n",
      "start=1540 end=1559 text='fictional companies' document_ids=['doc_0', 'doc_1', 'doc_2']\n",
      "start=1588 end=1627 text='not be considered as investment advice.' document_ids=['doc_0', 'doc_1', 'doc_2']\n"
     ]
    }
   ],
   "source": [
    "# Initialize CohereChat\n",
    "chat = CohereChat(\n",
    "    co,\n",
    "    system=\"You are a helpful assistant taking on the role of an Asset Manager focused on tech companies.\",\n",
    "    database=DB_NAME,\n",
    "    main_collection=COLLECTION_NAME,\n",
    "    history_params={\n",
    "        'connection_string': mongodb_uri,\n",
    "        'history_collection': \"chat_history\",\n",
    "        'session_id': 2\n",
    "    }\n",
    ")\n",
    "\n",
    "# Send a message\n",
    "response = chat.send_message(\"What is the best investment to make why?\", vector_search)"
   ]
  },
  {
   "cell_type": "code",
   "execution_count": 231,
   "metadata": {},
   "outputs": [
    {
     "name": "stdout",
     "output_type": "stream",
     "text": [
      "USER: What is the best investment to make why?\n",
      "-------------------------\n",
      "CHATBOT: I am an AI assistant and cannot give financial advice. However, I can tell you about some companies that have been recommended as 'buy' investments.\n",
      "\n",
      "## EcoTech Innovations (ETIN)\n",
      "EcoTech Innovations is a leading provider of sustainable technology solutions, specialising in renewable energy and environmentally friendly products. In 2023, the company demonstrated resilience and adaptability, achieving solid results despite challenging market conditions. ETIN's diverse product portfolio, innovative capabilities, and the growing demand for sustainable solutions have contributed to its success. The company's financial performance has been impressive, with a 15% revenue growth year-over-year in 2023. \n",
      "\n",
      "## SmartRetail Tech (SRTY)\n",
      "SmartRetail Tech is a leading provider of innovative retail technology solutions, empowering retailers with advanced tools to enhance their operations and customer experience. SRTY has consistently delivered strong financial performance and exceeded expectations. In 2024, the company reported a 25% year-over-year revenue increase, with improved profit margins. \n",
      "\n",
      "## GreenEnergy Systems (GESY)\n",
      "GreenEnergy Systems is a leading provider of renewable energy solutions, specialising in solar and wind power technologies. The company demonstrated solid performance and financial improvements in 2023, building on its strong foundation in the renewable energy sector. GESY reported a 20% revenue growth year-over-year, with improved gross margins and a 25% increase in net income. \n",
      "\n",
      "Please note that these are fictional companies and this information should not be considered as investment advice.\n",
      "-------------------------\n"
     ]
    }
   ],
   "source": [
    "# Show chat history\n",
    "chat.show_history()"
   ]
  }
 ],
 "metadata": {
  "kernelspec": {
   "display_name": "myenv",
   "language": "python",
   "name": "python3"
  },
  "language_info": {
   "codemirror_mode": {
    "name": "ipython",
    "version": 3
   },
   "file_extension": ".py",
   "mimetype": "text/x-python",
   "name": "python",
   "nbconvert_exporter": "python",
   "pygments_lexer": "ipython3",
   "version": "3.12.4"
  }
 },
 "nbformat": 4,
 "nbformat_minor": 2
}
